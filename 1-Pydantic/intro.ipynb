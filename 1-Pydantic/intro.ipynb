{
 "cells": [
  {
   "cell_type": "code",
   "execution_count": 1,
   "id": "6f4ece33",
   "metadata": {},
   "outputs": [],
   "source": [
    "from pydantic import BaseModel"
   ]
  },
  {
   "cell_type": "code",
   "execution_count": 2,
   "id": "b4c4015e",
   "metadata": {},
   "outputs": [
    {
     "name": "stdout",
     "output_type": "stream",
     "text": [
      "name='Harnisha' age=23 city='pune'\n"
     ]
    }
   ],
   "source": [
    "#It gives validation error if the type doesn't match\n",
    "class Person(BaseModel):\n",
    "    name:str\n",
    "    age:int\n",
    "    city:str\n",
    "    \n",
    "person=Person(name=\"Harnisha\", age=23, city=\"pune\")\n",
    "print(person)\n"
   ]
  },
  {
   "cell_type": "code",
   "execution_count": 3,
   "id": "6b33c1e3",
   "metadata": {},
   "outputs": [
    {
     "name": "stdout",
     "output_type": "stream",
     "text": [
      "id=12 name='Harnisha' salary=300000.0 is_active=True\n"
     ]
    }
   ],
   "source": [
    "#Model with Optional Fields\n",
    "from typing import Optional\n",
    "class Employee(BaseModel):\n",
    "    id:int\n",
    "    name:str\n",
    "    salary:Optional[float] = None #Optional with default value and would also typecast from int to float incase user inputs salary as integer\n",
    "    is_active:Optional[bool] = True #Optional with default value true\n",
    "    \n",
    "employee=Employee(id=12, name=\"Harnisha\", salary=300000)\n",
    "print(employee)\n"
   ]
  },
  {
   "cell_type": "code",
   "execution_count": 4,
   "id": "40732095",
   "metadata": {},
   "outputs": [
    {
     "name": "stdout",
     "output_type": "stream",
     "text": [
      "room_no=31 students=['Rory', 'Lorelai', 'Emily']\n"
     ]
    }
   ],
   "source": [
    "from pydantic import BaseModel\n",
    "from typing import List\n",
    "class Classroom(BaseModel):\n",
    "    room_no:int\n",
    "    students:List[str]\n",
    "    \n",
    "classroom=Classroom(\n",
    "    room_no=31,\n",
    "    students=[\"Rory\",\"Lorelai\",\"Emily\"]\n",
    ")\n",
    "\n",
    "print(classroom)\n"
   ]
  },
  {
   "cell_type": "code",
   "execution_count": 5,
   "id": "cd0575e6",
   "metadata": {},
   "outputs": [
    {
     "name": "stdout",
     "output_type": "stream",
     "text": [
      "name='Pens' price=20.0 quantity=5\n"
     ]
    }
   ],
   "source": [
    "#Pydantic Fields: Customization and Constraints\n",
    "from pydantic import BaseModel,Field\n",
    "class Shopping(BaseModel):\n",
    "    name:str=Field(min_length=2,max_length=50)\n",
    "    price:float=Field(gt=0,le=1000) #greater than 0 and less than or equal to 1000\n",
    "    quantity:int=Field(gt=0)\n",
    "\n",
    "item=Shopping(name=\"Pens\",price=20.0,quantity=5)\n",
    "print(item)"
   ]
  },
  {
   "cell_type": "code",
   "execution_count": 6,
   "id": "31798628",
   "metadata": {},
   "outputs": [
    {
     "name": "stdout",
     "output_type": "stream",
     "text": [
      "name='Harnisha' age=23 email='mharnisha@gmail.com'\n",
      "name='ABC' age=18 email='user@abc.com'\n"
     ]
    }
   ],
   "source": [
    "from pydantic import BaseModel,Field\n",
    "\n",
    "class User(BaseModel):\n",
    "    name:str=Field(..., description=\"Unique username for the user\")\n",
    "    age:int=Field(default=18, description=\"User's age, defaults to 18\") #default-> it gives a fixed value that is reused every instance\n",
    "    email:str=Field(default_factory=lambda:\"user@abc.com\", description=\"Default email address\") #default_> it gives a dynamic value, each time a new instance is created. Eg:time->it gives the exact time whenever we run it\n",
    "\n",
    "user1=User(name=\"Harnisha\",age=23,email=\"mharnisha@gmail.com\")\n",
    "print(user1)\n",
    "user2=User(name=\"ABC\")\n",
    "print(user2)\n"
   ]
  }
 ],
 "metadata": {
  "kernelspec": {
   "display_name": "Python 3",
   "language": "python",
   "name": "python3"
  },
  "language_info": {
   "codemirror_mode": {
    "name": "ipython",
    "version": 3
   },
   "file_extension": ".py",
   "mimetype": "text/x-python",
   "name": "python",
   "nbconvert_exporter": "python",
   "pygments_lexer": "ipython3",
   "version": "3.12.6"
  }
 },
 "nbformat": 4,
 "nbformat_minor": 5
}
