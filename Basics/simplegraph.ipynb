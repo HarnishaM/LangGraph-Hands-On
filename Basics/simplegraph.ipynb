{
 "cells": [
  {
   "cell_type": "code",
   "execution_count": 1,
   "id": "af729986",
   "metadata": {},
   "outputs": [],
   "source": [
    "#Building a simple workflow or graph using LangGraph\n",
    "#STATE => It is basically the input schema  for all Nodes and Edges in the graph"
   ]
  },
  {
   "cell_type": "code",
   "execution_count": 2,
   "id": "7a4d9656",
   "metadata": {},
   "outputs": [],
   "source": [
    "from typing_extensions import TypedDict\n",
    "\n",
    "class State(TypedDict):\n",
    "    graph_info:str"
   ]
  },
  {
   "cell_type": "code",
   "execution_count": 3,
   "id": "b9b86ca3",
   "metadata": {},
   "outputs": [],
   "source": [
    "#Creating Nodes -> Nodes are just functions\n",
    "\n",
    "def start_watch(state:State):\n",
    "    print(\"Start Watch Node has been called\")\n",
    "    return {\"graph_info\":state[\"graph_info\"]+\"I am planning to watch \"}\n",
    "\n",
    "def movie(state:State):\n",
    "    print(\"Movie node has been called\")\n",
    "    return{\"graph_info\":state[\"graph_info\"]+\"Movie\"}\n",
    "\n",
    "def series(state:State):\n",
    "    print(\"Series node has been called\")\n",
    "    return{\"graph_info\":state[\"graph_info\"]+\"Series\"}"
   ]
  },
  {
   "cell_type": "code",
   "execution_count": 4,
   "id": "7418d228",
   "metadata": {},
   "outputs": [],
   "source": [
    "import random\n",
    "from typing import Literal\n",
    "\n",
    "def random_watch(state:State) -> Literal['movie','series']:\n",
    "    if random.random()>0.5:\n",
    "        return \"movie\"\n",
    "    else:\n",
    "        return \"series\""
   ]
  },
  {
   "cell_type": "code",
   "execution_count": 5,
   "id": "51314119",
   "metadata": {},
   "outputs": [
    {
     "data": {
      "image/png": "[encoded data removed]",
      "text/plain": [
       "<IPython.core.display.Image object>"
      ]
     },
     "metadata": {},
     "output_type": "display_data"
    }
   ],
   "source": [
    "from IPython.display import Image,display\n",
    "from langgraph.graph import StateGraph,START,END\n",
    "\n",
    "#Building Graph\n",
    "graph=StateGraph(State)\n",
    "\n",
    "#adding all the nodes\n",
    "graph.add_node(\"watch\",start_watch)\n",
    "graph.add_node(\"movie\",movie)\n",
    "graph.add_node(\"series\",series)\n",
    "\n",
    "#Schedule the flow using edges\n",
    "graph.add_edge(START,\"watch\")\n",
    "graph.add_conditional_edges(\"watch\",random_watch)\n",
    "graph.add_edge(\"movie\",END)\n",
    "graph.add_edge(\"series\",END)\n",
    "\n",
    "#Compile the graph\n",
    "graph_builder=graph.compile()\n",
    "\n",
    "#View\n",
    "display(Image(graph_builder.get_graph().draw_mermaid_png()))"
   ]
  },
  {
   "cell_type": "code",
   "execution_count": 6,
   "id": "5c25df65",
   "metadata": {},
   "outputs": [
    {
     "name": "stdout",
     "output_type": "stream",
     "text": [
      "Start Watch Node has been called\n",
      "Movie node has been called\n"
     ]
    },
    {
     "data": {
      "text/plain": [
       "{'graph_info': 'My Name is Harnisha I am planning to watch Movie'}"
      ]
     },
     "execution_count": 6,
     "metadata": {},
     "output_type": "execute_result"
    }
   ],
   "source": [
    "graph_builder.invoke({\"graph_info\":\"My Name is Harnisha \"})"
   ]
  }
 ],
 "metadata": {
  "kernelspec": {
   "display_name": "Python 3",
   "language": "python",
   "name": "python3"
  },
  "language_info": {
   "codemirror_mode": {
    "name": "ipython",
    "version": 3
   },
   "file_extension": ".py",
   "mimetype": "text/x-python",
   "name": "python",
   "nbconvert_exporter": "python",
   "pygments_lexer": "ipython3",
   "version": "3.12.6"
  }
 },
 "nbformat": 4,
 "nbformat_minor": 5
}
