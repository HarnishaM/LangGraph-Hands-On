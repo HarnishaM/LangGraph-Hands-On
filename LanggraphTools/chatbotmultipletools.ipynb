{
 "cells": [
  {
   "cell_type": "code",
   "execution_count": 1,
   "id": "ed9e1350",
   "metadata": {},
   "outputs": [],
   "source": [
    "#tool1\n",
    "from langchain_community.tools import WikipediaQueryRun\n",
    "from langchain_community.utilities import WikipediaAPIWrapper\n",
    "\n",
    "wiki_wrapper=WikipediaAPIWrapper(top_k_results=2,doc_content_chars_max=500)\n",
    "wiki=WikipediaQueryRun(api_wrapper=wiki_wrapper)"
   ]
  },
  {
   "cell_type": "code",
   "execution_count": 2,
   "id": "d30fea61",
   "metadata": {},
   "outputs": [],
   "source": [
    "#tool2\n",
    "from langchain_community.tools import ArxivQueryRun\n",
    "from langchain_community.utilities import ArxivAPIWrapper\n",
    "\n",
    "arx_wrapper=ArxivAPIWrapper(top_k_results=3,doc_content_chars_max=500)\n",
    "arxiv=ArxivQueryRun(api_wrapper=arx_wrapper)"
   ]
  },
  {
   "cell_type": "code",
   "execution_count": 3,
   "id": "3691b429",
   "metadata": {},
   "outputs": [
    {
     "data": {
      "text/plain": [
       "\"Published: 2024-07-22\\nTitle: Attention Is All You Need But You Don't Need All Of It For Inference of Large Language Models\\nAuthors: Georgy Tyukin, Gbetondji J-S Dovonon, Jean Kaddour, Pasquale Minervini\\nSummary: The inference demand for LLMs has skyrocketed in recent months, and serving\\nmodels with low latencies remains challenging due to the quadratic input length\\ncomplexity of the attention layers. In this work, we investigate the effect of\\ndropping MLP and attention layers at inference time o\""
      ]
     },
     "execution_count": 3,
     "metadata": {},
     "output_type": "execute_result"
    }
   ],
   "source": [
    "arxiv.invoke(\"Attention is all you need\")"
   ]
  },
  {
   "cell_type": "code",
   "execution_count": 4,
   "id": "bcf1eb63",
   "metadata": {},
   "outputs": [],
   "source": [
    "import os\n",
    "from dotenv import load_dotenv\n",
    "\n",
    "load_dotenv()\n",
    "os.environ[\"GROQ_API_KEY\"]=os.getenv(\"GROQ_API_KEY\")\n",
    "os.environ[\"TAVILY_API_KEY\"]=os.getenv(\"TAVILY_API_KEY\")"
   ]
  },
  {
   "cell_type": "code",
   "execution_count": 5,
   "id": "5d9cdaa9",
   "metadata": {},
   "outputs": [
    {
     "name": "stderr",
     "output_type": "stream",
     "text": [
      "C:\\Users\\HARNISHA\\AppData\\Local\\Temp\\ipykernel_41088\\112934120.py:4: LangChainDeprecationWarning: The class `TavilySearchResults` was deprecated in LangChain 0.3.25 and will be removed in 1.0. An updated version of the class exists in the :class:`~langchain-tavily package and should be used instead. To use it run `pip install -U :class:`~langchain-tavily` and import as `from :class:`~langchain_tavily import TavilySearch``.\n",
      "  tavily=TavilySearchResults()\n"
     ]
    }
   ],
   "source": [
    "#Tavili Search Tool(basically for google search)\n",
    "from langchain_community.tools.tavily_search import TavilySearchResults\n",
    "\n",
    "tavily=TavilySearchResults()"
   ]
  },
  {
   "cell_type": "code",
   "execution_count": 6,
   "id": "7fe07db8",
   "metadata": {},
   "outputs": [
    {
     "data": {
      "text/plain": [
       "[{'title': 'August 2025 - The Tech News Source',\n",
       "  'url': 'https://thetechnewssource.com/2025/08/',\n",
       "  'content': '# The Tech News Source\\n\\n## \\n\\n# Month: August 2025\\n\\n# Google Unveils AI-Centric Pixel 10, Watch 4 Amidst Launch Event Critique [...] Google has officially revealed its latest hardware lineup, featuring the Pixel 10 series, Pixel Watch 4, and updated Pixel Buds, all deeply integrated with advanced artificial intelligence. While the new devices introduce significant technological leaps, including a powerful new Tensor G5 chip and enhanced AI capabilities across the board, the presentation itself proved to be a notable point of contention for many viewers due to its unconventional format and hosting. The keynote, hosted by [...] The past two weeks in the tech world witnessed a rapid expansion of Artificial Intelligence (AI) capabilities across diverse products, revealing both extraordinary potential and significant inherent flaws. This period highlighted AI’s dual nature as a powerful tool for innovation and a source of concern regarding accuracy, privacy, and security. Concurrently, governments intensified their efforts to regulate the digital sphere, leading to landmark legal battles and policy adjustments aimed at',\n",
       "  'score': 0.5443418},\n",
       " {'title': 'Top News in Tech: August 2025 | Fraudlogix',\n",
       "  'url': 'https://www.fraudlogix.com/blog/top-news-in-tech-aug-25/',\n",
       "  'content': 'Fraudlogix\\n\\n# Top News in Tech: August 2025\\n\\n|  |\\n\\n| AI Search Is Growing More Quickly Than Expected  Large language models aren’t replacing traditional browsers anytime soon, but they have become another responsibility for brands. Chatbots are becoming the go-to source for online answers for many consumers, chipping away at the dominance of traditional web search and adding another avenue of outreach that brands must cultivate to connect with customers. (Patrick Coffee/WSJ) | [...] ## AI Search Is Growing More Quickly Than Expected\\n\\nLarge language models aren’t replacing traditional browsers anytime soon, but they have become another responsibility for brands. Chatbots are becoming the go-to source for online answers for many consumers, chipping away at the dominance of traditional web search and adding another avenue of outreach that brands must cultivate to connect with customers. (Patrick Coffee/WSJ)\\n\\n|  | [...] Palo Alto Networks will take over Israeli identity security provider CyberArk  in a deal valued at roughly $25 billion.  CyberArk shareholders, for each of their shares, will get $45 cash and 2.2005 shares of Palo Alto. The deal is expected to close during Palo Alto Networks’ fiscal 2026. (Samantha Subin/CNBC)\\n\\n|  |',\n",
       "  'score': 0.5278769},\n",
       " {'title': 'SciTechDaily - Science, Space and Technology News 2025',\n",
       "  'url': 'https://scitechdaily.com/',\n",
       "  'content': \"Scientists have found that precancerous pancreas cells may behave like dementia-affected brain cells, forming toxic…\\n\\n### Don't Miss a Discovery\\n\\nSubscribe for the Latest in Science & Tech!\\n\\n##### Trending News\\n\\n#### Restricted Blood Flow Supercharges Cancer Growth, Study Finds\\n\\n#### First Ever Dinosaur-Era Dragonfly Fossil Discovered in Canada\\n\\n#### New Fossils Reveal Humans’ Mysterious Lost Cousin\\n\\n#### These 3 Simple Lifestyle Changes Can Cut Diabetes Risk by 31% [...] # SciTechDaily\\n\\nSciTechDaily\\nSciTechDaily\\n\\n## Researchers Have Cracked the Sweet Potato’s Unusually Complex DNA\\n\\nSweet potato DNA decoded, revealing hybrid ancestry. Discovery aids future breeding and resilience. The sweet…\\n\\n## The Ancient Oxygen Flood That Let Life Conquer the Deep Ocean\\n\\nHundreds of millions of years ago, Earth’s first forests helped pump oxygen into the deep…\\n\\n## The Math Says Life Shouldn’t Exist: New Study Challenges Origins Theories [...] The study finds life’s origin faces severe mathematical challenges. Chance alone may not be enough.…\\n\\n## Researchers Uncover “Eat-Me” Signal That Triggers Alzheimer’s First Symptom\\n\\nImmune-driven nerve fiber damage may underlie early smell loss in Alzheimer’s, offering a new path…\\n\\n## Covid Could Be Quietly Aging Your Arteries by Five Years\\n\\nCOVID-19 may be silently accelerating the aging of our arteries, with women facing the sharpest…\",\n",
       "  'score': 0.37765598},\n",
       " {'title': '25 New Technology Trends for 2025',\n",
       "  'url': 'https://www.simplilearn.com/top-technology-trends-and-jobs-article',\n",
       "  'content': 'The next emerging technology trend is Autonomous vehicles, which use AI, sensors, and machine learning to navigate and operate without human intervention. While fully autonomous cars are still under development, there\\'s significant progress in integrating levels of autonomy into public transportation and freight logistics, which could reduce accidents, improve traffic management, and decrease emissions.\\n\\n## 9. Blockchain [...] New VR systems are also becoming more user-friendly, with lighter headsets and longer battery life, which could lead to broader consumer adoption and integration into daily life.\\n\\n## 5. Augmented Reality (AR)\\n\\nIn 2025, Augmented Reality (AR)\") is poised to be a major tech trend, further integrating into consumer and enterprise applications. With the evolution of hardware, such as advanced AR glasses and improvements in mobile devices, AR will offer more immersive, interactive experiences. [...] # 25 New Technology Trends for 2025\\n\\nNew Technology Trends for 2025\\n\\n#### Table of Contents\\n\\n### What Are the Top 25 Emerging Technologies in 2025?\\n\\n### 1. Generative AI\\n\\n### 2. Quantum Computing\\n\\n### 3. 5G Expansion\\n\\n### 4. Virtual Reality (VR) 2.0\\n\\n### 5. Augmented Reality (AR)\\n\\n### 6. Internet of Things\\n\\n### 7. Biotechnology in Agriculture\\n\\n### 8. Autonomous Vehicles\\n\\n### 9. Blockchain\\n\\n### 10. Edge Computing\\n\\n### 11. Personalized Medicine\\n\\n### 12. Neuromorphic Computing',\n",
       "  'score': 0.37696764},\n",
       " {'title': 'News Archive | August 2025 - TechRadar',\n",
       "  'url': 'https://www.techradar.com/news/archive',\n",
       "  'content': 'Other versions of this page are available with specific content for the following regions:\\n\\nTechRadar is part of Future US Inc, an international media group and leading digital publisher. Visit our corporate site.\\n\\n©\\nFuture US, Inc. Full 7th Floor, 130 West 42nd Street,\\nNew York,\\nNY 10036.\\n\\nPlease login or signup to comment\\n\\nPlease wait... [...] TechRadar\\nflag of US (English)\\nflag of Singapore\\nflag of Danmark\\nflag of Suomi\\nflag of Norge\\nflag of Sverige\\nflag of UK\\nflag of Italia\\nflag of Nederland\\nflag of België (Nederlands)\\nflag of France\\nflag of Deutschland\\nflag of España\\nflag of US (English)\\nflag of Canada\\nflag of México\\nflag of Australia\\nflag of New Zealand\\n\\nWhen you purchase through links on our site, we may earn an affiliate commission. Here’s how it works.\\n\\n# News archive\\n\\n## August 2025\\n\\n## Filter\\n\\nTechnology Magazines',\n",
       "  'score': 0.2094377}]"
      ]
     },
     "execution_count": 6,
     "metadata": {},
     "output_type": "execute_result"
    }
   ],
   "source": [
    "tavily.invoke(\"Give me latest tech news\")"
   ]
  },
  {
   "cell_type": "code",
   "execution_count": 7,
   "id": "93a08501",
   "metadata": {},
   "outputs": [],
   "source": [
    "#combining all tools in a list\n",
    "all_tools=[arxiv,wiki,tavily]"
   ]
  },
  {
   "cell_type": "code",
   "execution_count": 8,
   "id": "c02b22d8",
   "metadata": {},
   "outputs": [],
   "source": [
    "#initialize the LLM Model\n",
    "from langchain_groq import ChatGroq\n",
    "llm=ChatGroq(model=\"deepseek-r1-distill-llama-70b\")"
   ]
  },
  {
   "cell_type": "code",
   "execution_count": 9,
   "id": "d3e14e75",
   "metadata": {},
   "outputs": [
    {
     "data": {
      "text/plain": [
       "AIMessage(content='<think>\\n\\n</think>\\n\\nLLM stands for **Large Language Model**. It refers to a type of artificial intelligence (AI) designed to understand and generate human language at a large scale. These models are trained on vast amounts of text data, allowing them to learn patterns, relationships, and structures within language. \\n\\nLarge Language Models are typically based on transformer architecture, which is particularly effective for processing sequential data like text. They are used for a wide range of tasks, including:\\n\\n1. **Text Generation**: Creating coherent and contextually relevant text based on a prompt.\\n2. **Translation**: Translating text from one language to another.\\n3. **Summarization**: Summarizing long pieces of text into concise versions.\\n4. **Question Answering**: Providing answers to questions based on the content of a document or context.\\n5. **Conversational AI**: Engaging in natural-sounding conversations with users.\\n\\nExamples of well-known LLMs include **GPT (Generative Pre-trained Transformer)** by OpenAI, **BERT (Bidirectional Encoder Representations from Transformers)** by Google, and **T5 (Text-to-Text Transfer Transformer)** by Google. These models have revolutionized the field of natural language processing (NLP) and are increasingly being applied in areas like customer service, content creation, and research.', additional_kwargs={}, response_metadata={'token_usage': {'completion_tokens': 269, 'prompt_tokens': 8, 'total_tokens': 277, 'completion_time': 0.7376278, 'prompt_time': 0.009853515, 'queue_time': 0.049456974, 'total_time': 0.747481315}, 'model_name': 'deepseek-r1-distill-llama-70b', 'system_fingerprint': 'fp_1bbe7845ec', 'service_tier': 'on_demand', 'finish_reason': 'stop', 'logprobs': None}, id='run--6f21fcbd-5cae-4280-99b8-49da77f87b10-0', usage_metadata={'input_tokens': 8, 'output_tokens': 269, 'total_tokens': 277})"
      ]
     },
     "execution_count": 9,
     "metadata": {},
     "output_type": "execute_result"
    }
   ],
   "source": [
    "llm.invoke(\"What is llm?\")"
   ]
  },
  {
   "cell_type": "code",
   "execution_count": 10,
   "id": "a87a6c6c",
   "metadata": {},
   "outputs": [],
   "source": [
    "#combining tools with llm\n",
    "llm_and_tools=llm.bind_tools(tools=all_tools)"
   ]
  },
  {
   "cell_type": "code",
   "execution_count": 11,
   "id": "1a8a1a57",
   "metadata": {},
   "outputs": [
    {
     "data": {
      "text/plain": [
       "AIMessage(content='', additional_kwargs={'reasoning_content': 'Alright, I need to figure out the recent movies released in India. Since I\\'m not up-to-date on the latest Bollywood releases, I\\'ll use the available tools to find this information.\\n\\nFirst, I consider using the \"tavily_search_results_json\" tool because it\\'s designed for current events and comprehensive search results. It\\'s likely to provide the most recent information on movie releases.\\n\\nI decide to make a function call with the query \"recent movies in India 2023.\" This should fetch the latest data from reliable sources. \\n\\nAfter making the call, I receive a list of movies. From the results, I identify the most recent ones and compile a list of titles along with their release dates to provide a clear answer.\\n', 'tool_calls': [{'id': '0hhvfabcx', 'function': {'arguments': '{\"query\":\"recent movies in India 2023\"}', 'name': 'tavily_search_results_json'}, 'type': 'function'}]}, response_metadata={'token_usage': {'completion_tokens': 181, 'prompt_tokens': 330, 'total_tokens': 511, 'completion_time': 0.784001896, 'prompt_time': 0.03873017, 'queue_time': 0.04970741, 'total_time': 0.822732066}, 'model_name': 'deepseek-r1-distill-llama-70b', 'system_fingerprint': 'fp_76307ac09b', 'service_tier': 'on_demand', 'finish_reason': 'tool_calls', 'logprobs': None}, id='run--6c11be3e-1ccd-4622-aa64-88ef2186f104-0', tool_calls=[{'name': 'tavily_search_results_json', 'args': {'query': 'recent movies in India 2023'}, 'id': '0hhvfabcx', 'type': 'tool_call'}], usage_metadata={'input_tokens': 330, 'output_tokens': 181, 'total_tokens': 511})"
      ]
     },
     "execution_count": 11,
     "metadata": {},
     "output_type": "execute_result"
    }
   ],
   "source": [
    "llm_and_tools.invoke(\"What is the recent movie in india?\")"
   ]
  },
  {
   "cell_type": "code",
   "execution_count": 12,
   "id": "3c671070",
   "metadata": {},
   "outputs": [],
   "source": [
    "#Workflow\n",
    "from typing_extensions import TypedDict\n",
    "from langchain_core.messages import AnyMessage #Human/AI Message\n",
    "from typing import Annotated #labelling\n",
    "from langgraph.graph.message import add_messages #reducers in langgraph"
   ]
  },
  {
   "cell_type": "code",
   "execution_count": 13,
   "id": "c07e11b8",
   "metadata": {},
   "outputs": [],
   "source": [
    "#State Schema\n",
    "class State(TypedDict):\n",
    "    messages:Annotated[list[AnyMessage],add_messages] #appends Human and AI messages without overriding messages"
   ]
  },
  {
   "cell_type": "code",
   "execution_count": 14,
   "id": "3d1f6c4a",
   "metadata": {},
   "outputs": [],
   "source": [
    "#Entire Chatbot With LangGraph\n",
    "from IPython.display import Image,display\n",
    "from langgraph.graph import StateGraph,START,END\n",
    "from langgraph.prebuilt import ToolNode\n",
    "from langgraph.prebuilt import tools_condition\n",
    " "
   ]
  },
  {
   "cell_type": "code",
   "execution_count": 15,
   "id": "ccd4eee5",
   "metadata": {},
   "outputs": [
    {
     "data": {
      "text/plain": [
       "<langgraph.graph.state.StateGraph at 0x1fe456e4ec0>"
      ]
     },
     "execution_count": 15,
     "metadata": {},
     "output_type": "execute_result"
    }
   ],
   "source": [
    "#Creating Nodes\n",
    "def tool_calling_llm(state:State):\n",
    "    return{\"messages\":[llm_and_tools.invoke(state[\"messages\"])]} #which tool is invoked is sent in the value\n",
    "\n",
    "#adding the nodes \n",
    "graph=StateGraph(State)\n",
    "graph.add_node(\"tool_calling_llm\", tool_calling_llm)\n",
    "graph.add_node(\"tools\",ToolNode(tools=all_tools))\n"
   ]
  },
  {
   "cell_type": "code",
   "execution_count": 16,
   "id": "114af399",
   "metadata": {},
   "outputs": [
    {
     "data": {
      "text/plain": [
       "<langgraph.graph.state.StateGraph at 0x1fe456e4ec0>"
      ]
     },
     "execution_count": 16,
     "metadata": {},
     "output_type": "execute_result"
    }
   ],
   "source": [
    "#adding the edges\n",
    "graph.add_edge(START,\"tool_calling_llm\")\n",
    "graph.add_conditional_edges(\n",
    "    \"tool_calling_llm\",\n",
    "    #if tool is called routes to tools\n",
    "    #if tool not called , routes to END\n",
    "    tools_condition,    \n",
    ")\n",
    "graph.add_edge(\"tools\",END)\n"
   ]
  },
  {
   "cell_type": "code",
   "execution_count": 17,
   "id": "04c7a143",
   "metadata": {},
   "outputs": [],
   "source": [
    "#Compile the graph\n",
    "graph_builder=graph.compile()"
   ]
  },
  {
   "cell_type": "code",
   "execution_count": 18,
   "id": "06770c83",
   "metadata": {},
   "outputs": [
    {
     "data": {
      "image/png": "[encoded data removed]",
      "text/plain": [
       "<IPython.core.display.Image object>"
      ]
     },
     "metadata": {},
     "output_type": "display_data"
    }
   ],
   "source": [
    "#view\n",
    "display(Image(graph_builder.get_graph().draw_mermaid_png()))"
   ]
  },
  {
   "cell_type": "code",
   "execution_count": 19,
   "id": "bd9482a1",
   "metadata": {},
   "outputs": [
    {
     "name": "stdout",
     "output_type": "stream",
     "text": [
      "================================\u001b[1m Human Message \u001b[0m=================================\n",
      "\n",
      "1706.03762\n",
      "==================================\u001b[1m Ai Message \u001b[0m==================================\n",
      "Tool Calls:\n",
      "  arxiv (vw3ka88d7)\n",
      " Call ID: vw3ka88d7\n",
      "  Args:\n",
      "    query: 1706.03762\n",
      "=================================\u001b[1m Tool Message \u001b[0m=================================\n",
      "Name: arxiv\n",
      "\n",
      "Published: 2023-08-02\n",
      "Title: Attention Is All You Need\n",
      "Authors: Ashish Vaswani, Noam Shazeer, Niki Parmar, Jakob Uszkoreit, Llion Jones, Aidan N. Gomez, Lukasz Kaiser, Illia Polosukhin\n",
      "Summary: The dominant sequence transduction models are based on complex recurrent or\n",
      "convolutional neural networks in an encoder-decoder configuration. The best\n",
      "performing models also connect the encoder and decoder through an attention\n",
      "mechanism. We propose a new simple network architecture, the Transformer, base\n"
     ]
    }
   ],
   "source": [
    "messages=graph_builder.invoke({\"messages\":\"1706.03762\"})\n",
    "for m in messages['messages']:\n",
    "    m.pretty_print()"
   ]
  },
  {
   "cell_type": "code",
   "execution_count": 20,
   "id": "29f9946b",
   "metadata": {},
   "outputs": [
    {
     "name": "stdout",
     "output_type": "stream",
     "text": [
      "================================\u001b[1m Human Message \u001b[0m=================================\n",
      "\n",
      "Hey! I am Harnisha\n",
      "==================================\u001b[1m Ai Message \u001b[0m==================================\n",
      "\n",
      "Hello, Harnisha! How can I assist you today?\n"
     ]
    }
   ],
   "source": [
    "messages=graph_builder.invoke({\"messages\":\"Hey! I am Harnisha\"})\n",
    "for m in messages['messages']:\n",
    "    m.pretty_print()"
   ]
  },
  {
   "cell_type": "code",
   "execution_count": null,
   "id": "adbe9cf7",
   "metadata": {},
   "outputs": [],
   "source": []
  }
 ],
 "metadata": {
  "kernelspec": {
   "display_name": "Python 3",
   "language": "python",
   "name": "python3"
  },
  "language_info": {
   "codemirror_mode": {
    "name": "ipython",
    "version": 3
   },
   "file_extension": ".py",
   "mimetype": "text/x-python",
   "name": "python",
   "nbconvert_exporter": "python",
   "pygments_lexer": "ipython3",
   "version": "3.12.6"
  }
 },
 "nbformat": 4,
 "nbformat_minor": 5
}
