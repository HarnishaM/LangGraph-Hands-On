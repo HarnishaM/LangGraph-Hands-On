{
 "cells": [
  {
   "cell_type": "code",
   "execution_count": null,
   "id": "ed9e1350",
   "metadata": {},
   "outputs": [],
   "source": [
    "#tool1\n",
    "from langchain_community.tools import WikipediaQueryRun\n",
    "from langchain_community.utilities import WikipediaAPIWrapper\n",
    "\n",
    "wiki_wrapper=WikipediaAPIWrapper(top_k_results=2,doc_content_chars_max=500)\n",
    "wiki=WikipediaQueryRun(api_wrapper=wiki_wrapper)"
   ]
  },
  {
   "cell_type": "code",
   "execution_count": null,
   "id": "d30fea61",
   "metadata": {},
   "outputs": [],
   "source": [
    "#tool2\n",
    "from langchain_community.tools import ArxivQueryRun\n",
    "from langchain_community.utilities import ArxivAPIWrapper\n",
    "\n",
    "arx_wrapper=ArxivAPIWrapper(top_k_results=3,doc_content_chars_max=500)\n",
    "arxiv=ArxivQueryRun(api_wrapper=arx_wrapper)"
   ]
  },
  {
   "cell_type": "code",
   "execution_count": null,
   "id": "3691b429",
   "metadata": {},
   "outputs": [],
   "source": [
    "arxiv.invoke(\"Attention is all you need\")"
   ]
  },
  {
   "cell_type": "code",
   "execution_count": null,
   "id": "bcf1eb63",
   "metadata": {},
   "outputs": [],
   "source": [
    "import os\n",
    "from dotenv import load_dotenv\n",
    "\n",
    "load_dotenv()\n",
    "os.environ[\"GROQ_API_KEY\"]=os.getenv(\"GROQ_API_KEY\")\n",
    "os.environ[\"TAVILY_API_KEY\"]=os.getenv(\"TAVILY_API_KEY\")"
   ]
  },
  {
   "cell_type": "code",
   "execution_count": null,
   "id": "5d9cdaa9",
   "metadata": {},
   "outputs": [],
   "source": [
    "#Tavili Search Tool(basically for google search)\n",
    "from langchain_community.tools.tavily_search import TavilySearchResults\n",
    "\n",
    "tavily=TavilySearchResults()"
   ]
  },
  {
   "cell_type": "code",
   "execution_count": null,
   "id": "7fe07db8",
   "metadata": {},
   "outputs": [],
   "source": [
    "tavily.invoke(\"Give me latest tech news\")"
   ]
  },
  {
   "cell_type": "code",
   "execution_count": null,
   "id": "93a08501",
   "metadata": {},
   "outputs": [],
   "source": [
    "#combining all tools in a list\n",
    "all_tools=[arxiv,wiki,tavily]"
   ]
  },
  {
   "cell_type": "code",
   "execution_count": null,
   "id": "c02b22d8",
   "metadata": {},
   "outputs": [],
   "source": [
    "#initialize the LLM Model\n",
    "from langchain_groq import ChatGroq\n",
    "llm=ChatGroq(model=\"deepseek-r1-distill-llama-70b\")"
   ]
  },
  {
   "cell_type": "code",
   "execution_count": null,
   "id": "d3e14e75",
   "metadata": {},
   "outputs": [],
   "source": [
    "llm.invoke(\"What is llm?\")"
   ]
  },
  {
   "cell_type": "code",
   "execution_count": null,
   "id": "a87a6c6c",
   "metadata": {},
   "outputs": [],
   "source": [
    "#combining tools with llm\n",
    "llm_and_tools=llm.bind_tools(tools=all_tools)"
   ]
  },
  {
   "cell_type": "code",
   "execution_count": null,
   "id": "1a8a1a57",
   "metadata": {},
   "outputs": [],
   "source": [
    "llm_and_tools.invoke(\"What is the recent movie in india?\")"
   ]
  },
  {
   "cell_type": "code",
   "execution_count": null,
   "id": "3c671070",
   "metadata": {},
   "outputs": [],
   "source": [
    "#Workflow\n",
    "from typing_extensions import TypedDict\n",
    "from langchain_core.messages import AnyMessage #Human/AI Message\n",
    "from typing import Annotated #labelling\n",
    "from langgraph.graph.message import add_messages #reducers in langgraph"
   ]
  },
  {
   "cell_type": "code",
   "execution_count": null,
   "id": "c07e11b8",
   "metadata": {},
   "outputs": [],
   "source": [
    "#State Schema\n",
    "class State(TypedDict):\n",
    "    messages:Annotated[list[AnyMessage],add_messages] #appends Human and AI messages without overriding messages"
   ]
  },
  {
   "cell_type": "code",
   "execution_count": null,
   "id": "3d1f6c4a",
   "metadata": {},
   "outputs": [],
   "source": [
    "#Entire Chatbot With LangGraph\n",
    "from IPython.display import Image,display\n",
    "from langgraph.graph import StateGraph,START,END\n",
    "from langgraph.prebuilt import ToolNode\n",
    "from langgraph.prebuilt import tools_condition\n",
    " "
   ]
  },
  {
   "cell_type": "code",
   "execution_count": null,
   "id": "ccd4eee5",
   "metadata": {},
   "outputs": [],
   "source": [
    "#Creating Nodes\n",
    "def tool_calling_llm(state:State):\n",
    "    return{\"messages\":[llm_and_tools.invoke(state[\"messages\"])]} #which tool is invoked is sent in the value\n",
    "\n",
    "#adding the nodes \n",
    "graph=StateGraph(State)\n",
    "graph.add_node(\"tool_calling_llm\", tool_calling_llm)\n",
    "graph.add_node(\"tools\",ToolNode(tools=all_tools))\n"
   ]
  },
  {
   "cell_type": "code",
   "execution_count": null,
   "id": "114af399",
   "metadata": {},
   "outputs": [],
   "source": [
    "#adding the edges\n",
    "graph.add_edge(START,\"tool_calling_llm\")\n",
    "graph.add_conditional_edges(\n",
    "    \"tool_calling_llm\",\n",
    "    #if tool is called routes to tools\n",
    "    #if tool not called , routes to END\n",
    "    tools_condition,    \n",
    ")\n",
    "graph.add_edge(\"tools\",END)\n"
   ]
  },
  {
   "cell_type": "code",
   "execution_count": null,
   "id": "04c7a143",
   "metadata": {},
   "outputs": [],
   "source": [
    "#Compile the graph\n",
    "graph_builder=graph.compile()"
   ]
  },
  {
   "cell_type": "code",
   "execution_count": null,
   "id": "06770c83",
   "metadata": {},
   "outputs": [],
   "source": [
    "#view\n",
    "display(Image(graph_builder.get_graph().draw_mermaid_png()))"
   ]
  },
  {
   "cell_type": "code",
   "execution_count": null,
   "id": "bd9482a1",
   "metadata": {},
   "outputs": [],
   "source": [
    "messages=graph_builder.invoke({\"messages\":\"1706.03762\"})\n",
    "for m in messages['messages']:\n",
    "    m.pretty_print()"
   ]
  },
  {
   "cell_type": "code",
   "execution_count": null,
   "id": "29f9946b",
   "metadata": {},
   "outputs": [],
   "source": [
    "messages=graph_builder.invoke({\"messages\":\"Hey! I am Harnisha\"})\n",
    "for m in messages['messages']:\n",
    "    m.pretty_print()"
   ]
  },
  {
   "cell_type": "code",
   "execution_count": null,
   "id": "adbe9cf7",
   "metadata": {},
   "outputs": [],
   "source": []
  }
 ],
 "metadata": {
  "kernelspec": {
   "display_name": "Python 3",
   "language": "python",
   "name": "python3"
  },
  "language_info": {
   "codemirror_mode": {
    "name": "ipython",
    "version": 3
   },
   "file_extension": ".py",
   "mimetype": "text/x-python",
   "name": "python",
   "nbconvert_exporter": "python",
   "pygments_lexer": "ipython3",
   "version": "3.12.6"
  }
 },
 "nbformat": 4,
 "nbformat_minor": 5
}
